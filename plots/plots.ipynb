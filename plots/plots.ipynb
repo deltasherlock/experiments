{
 "cells": [
  {
   "cell_type": "code",
   "execution_count": 20,
   "metadata": {},
   "outputs": [],
   "source": [
    "import pandas as pd\n",
    "import matplotlib.pyplot as plt\n",
    "import seaborn as sns\n",
    "sns.set_style('whitegrid')"
   ]
  },
  {
   "cell_type": "code",
   "execution_count": 2,
   "metadata": {},
   "outputs": [
    {
     "data": {
      "text/html": [
       "<div>\n",
       "<style scoped>\n",
       "    .dataframe tbody tr th:only-of-type {\n",
       "        vertical-align: middle;\n",
       "    }\n",
       "\n",
       "    .dataframe tbody tr th {\n",
       "        vertical-align: top;\n",
       "    }\n",
       "\n",
       "    .dataframe thead th {\n",
       "        text-align: right;\n",
       "    }\n",
       "</style>\n",
       "<table border=\"1\" class=\"dataframe\">\n",
       "  <thead>\n",
       "    <tr style=\"text-align: right;\">\n",
       "      <th></th>\n",
       "      <th>method</th>\n",
       "      <th>dirty_count</th>\n",
       "      <th>precision</th>\n",
       "      <th>recall</th>\n",
       "    </tr>\n",
       "  </thead>\n",
       "  <tbody>\n",
       "    <tr>\n",
       "      <th>0</th>\n",
       "      <td>DeltaSherlock</td>\n",
       "      <td>0</td>\n",
       "      <td>0.905</td>\n",
       "      <td>0.880</td>\n",
       "    </tr>\n",
       "    <tr>\n",
       "      <th>1</th>\n",
       "      <td>DeltaSherlock</td>\n",
       "      <td>2500</td>\n",
       "      <td>0.899</td>\n",
       "      <td>0.888</td>\n",
       "    </tr>\n",
       "    <tr>\n",
       "      <th>2</th>\n",
       "      <td>DeltaSherlock</td>\n",
       "      <td>5000</td>\n",
       "      <td>0.903</td>\n",
       "      <td>0.893</td>\n",
       "    </tr>\n",
       "    <tr>\n",
       "      <th>3</th>\n",
       "      <td>DeltaSherlock</td>\n",
       "      <td>7500</td>\n",
       "      <td>0.914</td>\n",
       "      <td>0.895</td>\n",
       "    </tr>\n",
       "    <tr>\n",
       "      <th>4</th>\n",
       "      <td>DeltaSherlock</td>\n",
       "      <td>10000</td>\n",
       "      <td>0.908</td>\n",
       "      <td>0.898</td>\n",
       "    </tr>\n",
       "    <tr>\n",
       "      <th>5</th>\n",
       "      <td>Our Method</td>\n",
       "      <td>0</td>\n",
       "      <td>0.991</td>\n",
       "      <td>0.992</td>\n",
       "    </tr>\n",
       "    <tr>\n",
       "      <th>6</th>\n",
       "      <td>Our Method</td>\n",
       "      <td>2500</td>\n",
       "      <td>0.997</td>\n",
       "      <td>0.997</td>\n",
       "    </tr>\n",
       "    <tr>\n",
       "      <th>7</th>\n",
       "      <td>Our Method</td>\n",
       "      <td>5000</td>\n",
       "      <td>0.996</td>\n",
       "      <td>0.996</td>\n",
       "    </tr>\n",
       "    <tr>\n",
       "      <th>8</th>\n",
       "      <td>Our Method</td>\n",
       "      <td>7500</td>\n",
       "      <td>0.998</td>\n",
       "      <td>0.998</td>\n",
       "    </tr>\n",
       "    <tr>\n",
       "      <th>9</th>\n",
       "      <td>Our Method</td>\n",
       "      <td>10000</td>\n",
       "      <td>0.998</td>\n",
       "      <td>0.998</td>\n",
       "    </tr>\n",
       "    <tr>\n",
       "      <th>10</th>\n",
       "      <td>Rule Based</td>\n",
       "      <td>0</td>\n",
       "      <td>0.923</td>\n",
       "      <td>0.840</td>\n",
       "    </tr>\n",
       "    <tr>\n",
       "      <th>11</th>\n",
       "      <td>Rule Based</td>\n",
       "      <td>2500</td>\n",
       "      <td>0.979</td>\n",
       "      <td>0.861</td>\n",
       "    </tr>\n",
       "    <tr>\n",
       "      <th>12</th>\n",
       "      <td>Rule Based</td>\n",
       "      <td>5000</td>\n",
       "      <td>0.982</td>\n",
       "      <td>0.859</td>\n",
       "    </tr>\n",
       "    <tr>\n",
       "      <th>13</th>\n",
       "      <td>Rule Based</td>\n",
       "      <td>7500</td>\n",
       "      <td>0.982</td>\n",
       "      <td>0.846</td>\n",
       "    </tr>\n",
       "    <tr>\n",
       "      <th>14</th>\n",
       "      <td>Rule Based</td>\n",
       "      <td>10000</td>\n",
       "      <td>0.982</td>\n",
       "      <td>0.840</td>\n",
       "    </tr>\n",
       "  </tbody>\n",
       "</table>\n",
       "</div>"
      ],
      "text/plain": [
       "           method  dirty_count  precision  recall\n",
       "0   DeltaSherlock            0      0.905   0.880\n",
       "1   DeltaSherlock         2500      0.899   0.888\n",
       "2   DeltaSherlock         5000      0.903   0.893\n",
       "3   DeltaSherlock         7500      0.914   0.895\n",
       "4   DeltaSherlock        10000      0.908   0.898\n",
       "5      Our Method            0      0.991   0.992\n",
       "6      Our Method         2500      0.997   0.997\n",
       "7      Our Method         5000      0.996   0.996\n",
       "8      Our Method         7500      0.998   0.998\n",
       "9      Our Method        10000      0.998   0.998\n",
       "10     Rule Based            0      0.923   0.840\n",
       "11     Rule Based         2500      0.979   0.861\n",
       "12     Rule Based         5000      0.982   0.859\n",
       "13     Rule Based         7500      0.982   0.846\n",
       "14     Rule Based        10000      0.982   0.840"
      ]
     },
     "execution_count": 2,
     "metadata": {},
     "output_type": "execute_result"
    }
   ],
   "source": [
    "df = pd.read_csv('/home/ates/deltasherlock/experiments/plots/results.csv')\n",
    "df"
   ]
  },
  {
   "cell_type": "code",
   "execution_count": 28,
   "metadata": {},
   "outputs": [
    {
     "data": {
      "image/png": "[encoded data removed]",
      "text/plain": [
       "<Figure size 324x216 with 1 Axes>"
      ]
     },
     "metadata": {},
     "output_type": "display_data"
    }
   ],
   "source": [
    "sns.factorplot(data=df, x='dirty_count', hue='method', y='recall', hue_order=['Our Method', 'DeltaSherlock', 'Rule Based'], legend=False, kind='bar', aspect=1.5, size=3)\n",
    "plt.ylim((0.8, 1))\n",
    "plt.xlabel('Number of extra training samples with dependencies')\n",
    "plt.savefig('/home/ates/prospectus/figures/ds_recall.pdf')"
   ]
  },
  {
   "cell_type": "code",
   "execution_count": 29,
   "metadata": {},
   "outputs": [
    {
     "data": {
      "image/png": "[encoded data removed]",
      "text/plain": [
       "<Figure size 324x216 with 1 Axes>"
      ]
     },
     "metadata": {},
     "output_type": "display_data"
    }
   ],
   "source": [
    "sns.factorplot(data=df, x='dirty_count', hue='method', y='precision', hue_order=['Our Method', 'DeltaSherlock', 'Rule Based'], kind='bar', legend=False, aspect=1.5, size=3)\n",
    "plt.ylim((0.8, 1))\n",
    "plt.legend(loc='lower right', frameon=True)\n",
    "plt.xlabel('Number of extra training samples with dependencies')\n",
    "plt.savefig('/home/ates/prospectus/figures/ds_precision.pdf')"
   ]
  },
  {
   "cell_type": "code",
   "execution_count": null,
   "metadata": {},
   "outputs": [],
   "source": []
  }
 ],
 "metadata": {
  "kernelspec": {
   "display_name": "Python 3",
   "language": "python",
   "name": "python3"
  },
  "language_info": {
   "codemirror_mode": {
    "name": "ipython",
    "version": 3
   },
   "file_extension": ".py",
   "mimetype": "text/x-python",
   "name": "python",
   "nbconvert_exporter": "python",
   "pygments_lexer": "ipython3",
   "version": "3.6.5"
  }
 },
 "nbformat": 4,
 "nbformat_minor": 2
}
